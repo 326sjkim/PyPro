{
 "cells": [
  {
   "cell_type": "markdown",
   "metadata": {},
   "source": [
    "# Markdown 연습\n",
    "### <span style=\"color:red\"> vscode에서 ^M을 누르면 탭이 포커스 이동으로 바뀐다! </span>\n"
   ]
  },
  {
   "cell_type": "markdown",
   "metadata": {},
   "source": [
    "### header  #와   <h~>\n",
    "\n"
   ]
  },
  {
   "cell_type": "markdown",
   "metadata": {},
   "source": [
    "줄바꿈 1. 공백두개와 엔터   2.\" <xmp> <br> </xmp>\""
   ]
  },
  {
   "cell_type": "markdown",
   "metadata": {},
   "source": [
    "### 순서가 있는 리스트 \n",
    "1. 숫자쓰고 점찍고 공백 \n",
    "2. <xmp> <ol> <li> </xmp>\n",
    "\n",
    "1) 괄호는 ?  \n",
    "1 점이 없으면  \n",
    "\n",
    "1. 첫번째  \n",
    "    1. 첫번째의 하위 목록\n",
    "        1. 첫번째 하위의 하위\n",
    "        2. 하위의 하위 두번째\n",
    "\n",
    "\n",
    "\n"
   ]
  },
  {
   "cell_type": "markdown",
   "metadata": {},
   "source": [
    "### 순서가 없는 리스트    1. +, -, * 같이 적용   2. ul - li\n",
    "\n",
    "+ 순서가 없는거\n",
    "    + 순서가 없는거  \n",
    "        + 순서가 없는거"
   ]
  },
  {
   "cell_type": "markdown",
   "metadata": {},
   "source": [
    "### 인용구 사용  , >, >>, >>>\n"
   ]
  },
  {
   "cell_type": "markdown",
   "metadata": {},
   "source": [
    "### 코드를 표시할 때,   1. ```(backtick 이용)  2, pre와 code 이용\n",
    "```java\n",
    "// c++, java, python, bash, json, php, perl, ... (역따옴표, backtick)\n",
    "```\n",
    "\n",
    "\n"
   ]
  },
  {
   "cell_type": "markdown",
   "metadata": {},
   "source": [
    "### 수평선 넣기, \n",
    "***\n",
    "---\n"
   ]
  },
  {
   "cell_type": "markdown",
   "metadata": {},
   "source": [
    "# 글자  기울이기 : *, _,  굵은 글씨 : **, __,  취소선 ~~    \n",
    "\n",
    "  일반 글씨  \n",
    "  <span style=\"color:red;font-size:30px;\">색상과 크기 조정</span>    \n",
    "  *기울어진 글씨*  *기울어진 글씨*\n",
    "  _기울어진 글씨_  \n",
    "  **굵은 글씨**  \n",
    "  __굵은 글씨__   \n",
    "  ***굻은 기울임 글씨***   \n",
    "  ~~취소선 글씨~~  \n",
    "  <u>  밑 줄 </u>"
   ]
  },
  {
   "cell_type": "markdown",
   "metadata": {},
   "source": [
    "### 링크와 이미지  \n",
    "1. 그냥 직접 넣을 때 : https://www.google.com\n",
    "2. <https://www.google.com>\n",
    "3. [구글](https://www.google.com)  \n",
    "4. <address@gmail.com>\n",
    "5. [외부링크](address@gmail.com)\n",
    "\n",
    "### 이미지  \n",
    "![표시](https://www.google.com/images/branding/googlelogo/1x/googlelogo_color_272x92dp.png)\n",
    "\n",
    "\n"
   ]
  },
  {
   "cell_type": "markdown",
   "metadata": {},
   "source": [
    "### 표넣기 <!--   두번째 줄이 반드시 들어가야 한다. -->\n",
    "|제목|내용|설명|\n",
    "|-|-|-|         \n",
    "|테스트1|테스트2|테스트3|\n",
    "|테스트1|테스트2|테스트3|\n",
    "\n",
    "### 정렬\n",
    "|제목|내용|설명|\n",
    "|:-|-:|:-:|\n",
    "|   왼쪽정렬   |   오른쪽정렬   |   중앙정렬   |\n",
    "|왼쪽정렬|오른쪽정렬|중앙정렬|\n",
    "|왼쪽정렬|오른쪽정렬|중앙정렬|\n"
   ]
  },
  {
   "cell_type": "markdown",
   "metadata": {},
   "source": [
    "###  접기\n",
    "<details>\n",
    "<summary>Click Me</summary>\n",
    "Good!!\n",
    "</details>   \n",
    "\n",
    "<details>\n",
    "    <summary>오늘의 환율</summary>\n",
    "    <ul>\n",
    "        <li>달러($) : 1,135.90</li>\n",
    "        <li>유로(€) : 1,284.08</li>\n",
    "        <li>엔(￥) : 1,014.88</li>\n",
    "    </ul>\n",
    "</details>"
   ]
  },
  {
   "cell_type": "markdown",
   "metadata": {},
   "source": []
  },
  {
   "cell_type": "markdown",
   "metadata": {},
   "source": []
  },
  {
   "cell_type": "markdown",
   "metadata": {},
   "source": []
  },
  {
   "cell_type": "markdown",
   "metadata": {},
   "source": []
  },
  {
   "cell_type": "markdown",
   "metadata": {},
   "source": []
  }
 ],
 "metadata": {
  "kernelspec": {
   "display_name": "Python 3.10.4 ('venv39_64')",
   "language": "python",
   "name": "python3"
  },
  "language_info": {
   "codemirror_mode": {
    "name": "ipython",
    "version": 3
   },
   "file_extension": ".py",
   "mimetype": "text/x-python",
   "name": "python",
   "nbconvert_exporter": "python",
   "pygments_lexer": "ipython3",
   "version": "3.10.4"
  },
  "orig_nbformat": 4,
  "vscode": {
   "interpreter": {
    "hash": "da5eb53a2f07dd21749cace4c2f7ab91d8a47ad5fe2bed6358bacfc40cb75f48"
   }
  }
 },
 "nbformat": 4,
 "nbformat_minor": 2
}
