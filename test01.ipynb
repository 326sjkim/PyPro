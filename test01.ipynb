{
 "cells": [
  {
   "cell_type": "code",
   "execution_count": 1,
   "metadata": {},
   "outputs": [
    {
     "name": "stdout",
     "output_type": "stream",
     "text": [
      "ILOVEYOU\n"
     ]
    }
   ],
   "source": [
    "print(\"ILOVEYOU\")"
   ]
  },
  {
   "cell_type": "code",
   "execution_count": 1,
   "metadata": {},
   "outputs": [
    {
     "ename": "AssertionError",
     "evalue": "",
     "output_type": "error",
     "traceback": [
      "\u001b[1;31m---------------------------------------------------------------------------\u001b[0m",
      "\u001b[1;31mAssertionError\u001b[0m                            Traceback (most recent call last)",
      "\u001b[1;32md:\\MyWorkspace\\PyPro\\test01.ipynb 셀 2\u001b[0m in \u001b[0;36m<cell line: 2>\u001b[1;34m()\u001b[0m\n\u001b[0;32m      <a href='vscode-notebook-cell:/d%3A/MyWorkspace/PyPro/test01.ipynb#W4sZmlsZQ%3D%3D?line=0'>1</a>\u001b[0m a\u001b[39m=\u001b[39m\u001b[39m3\u001b[39m\n\u001b[1;32m----> <a href='vscode-notebook-cell:/d%3A/MyWorkspace/PyPro/test01.ipynb#W4sZmlsZQ%3D%3D?line=1'>2</a>\u001b[0m \u001b[39massert\u001b[39;00m a \u001b[39m==\u001b[39m \u001b[39m2\u001b[39m\n",
      "\u001b[1;31mAssertionError\u001b[0m: "
     ]
    }
   ],
   "source": [
    "a=3\n",
    "assert a == 2"
   ]
  },
  {
   "cell_type": "code",
   "execution_count": 4,
   "metadata": {},
   "outputs": [
    {
     "ename": "AssertionError",
     "evalue": "정수 아닌 값이 있네",
     "output_type": "error",
     "traceback": [
      "\u001b[1;31m---------------------------------------------------------------------------\u001b[0m",
      "\u001b[1;31mAssertionError\u001b[0m                            Traceback (most recent call last)",
      "\u001b[1;32md:\\MyWorkspace\\PyPro\\test01.ipynb 셀 3\u001b[0m in \u001b[0;36m<cell line: 7>\u001b[1;34m()\u001b[0m\n\u001b[0;32m      <a href='vscode-notebook-cell:/d%3A/MyWorkspace/PyPro/test01.ipynb#W1sZmlsZQ%3D%3D?line=3'>4</a>\u001b[0m     \u001b[39massert\u001b[39;00m \u001b[39mtype\u001b[39m(t) \u001b[39mis\u001b[39;00m \u001b[39mint\u001b[39m, \u001b[39m'\u001b[39m\u001b[39m정수 아닌 값이 있네\u001b[39m\u001b[39m'\u001b[39m\n\u001b[0;32m      <a href='vscode-notebook-cell:/d%3A/MyWorkspace/PyPro/test01.ipynb#W1sZmlsZQ%3D%3D?line=6'>7</a>\u001b[0m \u001b[39mfor\u001b[39;00m i \u001b[39min\u001b[39;00m lists:\n\u001b[1;32m----> <a href='vscode-notebook-cell:/d%3A/MyWorkspace/PyPro/test01.ipynb#W1sZmlsZQ%3D%3D?line=7'>8</a>\u001b[0m     test(i)\n",
      "\u001b[1;32md:\\MyWorkspace\\PyPro\\test01.ipynb 셀 3\u001b[0m in \u001b[0;36mtest\u001b[1;34m(t)\u001b[0m\n\u001b[0;32m      <a href='vscode-notebook-cell:/d%3A/MyWorkspace/PyPro/test01.ipynb#W1sZmlsZQ%3D%3D?line=2'>3</a>\u001b[0m \u001b[39mdef\u001b[39;00m \u001b[39mtest\u001b[39m(t):\n\u001b[1;32m----> <a href='vscode-notebook-cell:/d%3A/MyWorkspace/PyPro/test01.ipynb#W1sZmlsZQ%3D%3D?line=3'>4</a>\u001b[0m     \u001b[39massert\u001b[39;00m \u001b[39mtype\u001b[39m(t) \u001b[39mis\u001b[39;00m \u001b[39mint\u001b[39m, \u001b[39m'\u001b[39m\u001b[39m정수 아닌 값이 있네\u001b[39m\u001b[39m'\u001b[39m\n",
      "\u001b[1;31mAssertionError\u001b[0m: 정수 아닌 값이 있네"
     ]
    }
   ],
   "source": [
    "# 03_가정 설정문(assert)\n",
    "\n",
    "lists = [1, 3, 6, 3, 8, 7, 13, 23, 13, 2, 3.14, 2, 3, 7]\n",
    "\n",
    "def test(t):\n",
    "    assert type(t) is int, '정수 아닌 값이 있네'\n",
    "\n",
    "\n",
    "for i in lists:\n",
    "    test(i)\n",
    "\n"
   ]
  },
  {
   "cell_type": "code",
   "execution_count": 1,
   "metadata": {},
   "outputs": [],
   "source": [
    "a = int(input(\"1~5 까지 숫자 입력 : \"))\n",
    "\n",
    "# 범위를 벗어나면 error 발생!\n",
    "if a < 1 or a > 5:\n",
    "    raise\n",
    "\n",
    "# 범위 안에 있으면 정상 출력\n",
    "print(f\"입력한 a : {a} 입니다.\")\n"
   ]
  },
  {
   "cell_type": "code",
   "execution_count": null,
   "metadata": {},
   "outputs": [],
   "source": [
    "99\n"
   ]
  }
 ],
 "metadata": {
  "kernelspec": {
   "display_name": "Python 3.10.4 ('venv39_64')",
   "language": "python",
   "name": "python3"
  },
  "language_info": {
   "codemirror_mode": {
    "name": "ipython",
    "version": 3
   },
   "file_extension": ".py",
   "mimetype": "text/x-python",
   "name": "python",
   "nbconvert_exporter": "python",
   "pygments_lexer": "ipython3",
   "version": "3.10.4"
  },
  "orig_nbformat": 4,
  "vscode": {
   "interpreter": {
    "hash": "da5eb53a2f07dd21749cace4c2f7ab91d8a47ad5fe2bed6358bacfc40cb75f48"
   }
  }
 },
 "nbformat": 4,
 "nbformat_minor": 2
}
