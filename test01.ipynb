{
 "cells": [
  {
   "cell_type": "code",
   "execution_count": 1,
   "metadata": {},
   "outputs": [
    {
     "name": "stdout",
     "output_type": "stream",
     "text": [
      "ILOVEYOU\n"
     ]
    }
   ],
   "source": [
    "print(\"ILOVEYOU\")"
   ]
  },
  {
   "cell_type": "code",
   "execution_count": 1,
   "metadata": {},
   "outputs": [
    {
     "ename": "AssertionError",
     "evalue": "",
     "output_type": "error",
     "traceback": [
      "\u001b[1;31m---------------------------------------------------------------------------\u001b[0m",
      "\u001b[1;31mAssertionError\u001b[0m                            Traceback (most recent call last)",
      "\u001b[1;32md:\\MyWorkspace\\PyPro\\test01.ipynb 셀 2\u001b[0m in \u001b[0;36m<cell line: 2>\u001b[1;34m()\u001b[0m\n\u001b[0;32m      <a href='vscode-notebook-cell:/d%3A/MyWorkspace/PyPro/test01.ipynb#W4sZmlsZQ%3D%3D?line=0'>1</a>\u001b[0m a\u001b[39m=\u001b[39m\u001b[39m3\u001b[39m\n\u001b[1;32m----> <a href='vscode-notebook-cell:/d%3A/MyWorkspace/PyPro/test01.ipynb#W4sZmlsZQ%3D%3D?line=1'>2</a>\u001b[0m \u001b[39massert\u001b[39;00m a \u001b[39m==\u001b[39m \u001b[39m2\u001b[39m\n",
      "\u001b[1;31mAssertionError\u001b[0m: "
     ]
    }
   ],
   "source": [
    "a=3\n",
    "assert a == 2"
   ]
  },
  {
   "cell_type": "code",
   "execution_count": 4,
   "metadata": {},
   "outputs": [
    {
     "ename": "AssertionError",
     "evalue": "정수 아닌 값이 있네",
     "output_type": "error",
     "traceback": [
      "\u001b[1;31m---------------------------------------------------------------------------\u001b[0m",
      "\u001b[1;31mAssertionError\u001b[0m                            Traceback (most recent call last)",
      "\u001b[1;32md:\\MyWorkspace\\PyPro\\test01.ipynb 셀 3\u001b[0m in \u001b[0;36m<cell line: 7>\u001b[1;34m()\u001b[0m\n\u001b[0;32m      <a href='vscode-notebook-cell:/d%3A/MyWorkspace/PyPro/test01.ipynb#W1sZmlsZQ%3D%3D?line=3'>4</a>\u001b[0m     \u001b[39massert\u001b[39;00m \u001b[39mtype\u001b[39m(t) \u001b[39mis\u001b[39;00m \u001b[39mint\u001b[39m, \u001b[39m'\u001b[39m\u001b[39m정수 아닌 값이 있네\u001b[39m\u001b[39m'\u001b[39m\n\u001b[0;32m      <a href='vscode-notebook-cell:/d%3A/MyWorkspace/PyPro/test01.ipynb#W1sZmlsZQ%3D%3D?line=6'>7</a>\u001b[0m \u001b[39mfor\u001b[39;00m i \u001b[39min\u001b[39;00m lists:\n\u001b[1;32m----> <a href='vscode-notebook-cell:/d%3A/MyWorkspace/PyPro/test01.ipynb#W1sZmlsZQ%3D%3D?line=7'>8</a>\u001b[0m     test(i)\n",
      "\u001b[1;32md:\\MyWorkspace\\PyPro\\test01.ipynb 셀 3\u001b[0m in \u001b[0;36mtest\u001b[1;34m(t)\u001b[0m\n\u001b[0;32m      <a href='vscode-notebook-cell:/d%3A/MyWorkspace/PyPro/test01.ipynb#W1sZmlsZQ%3D%3D?line=2'>3</a>\u001b[0m \u001b[39mdef\u001b[39;00m \u001b[39mtest\u001b[39m(t):\n\u001b[1;32m----> <a href='vscode-notebook-cell:/d%3A/MyWorkspace/PyPro/test01.ipynb#W1sZmlsZQ%3D%3D?line=3'>4</a>\u001b[0m     \u001b[39massert\u001b[39;00m \u001b[39mtype\u001b[39m(t) \u001b[39mis\u001b[39;00m \u001b[39mint\u001b[39m, \u001b[39m'\u001b[39m\u001b[39m정수 아닌 값이 있네\u001b[39m\u001b[39m'\u001b[39m\n",
      "\u001b[1;31mAssertionError\u001b[0m: 정수 아닌 값이 있네"
     ]
    }
   ],
   "source": [
    "# 03_가정 설정문(assert)\n",
    "\n",
    "lists = [1, 3, 6, 3, 8, 7, 13, 23, 13, 2, 3.14, 2, 3, 7]\n",
    "\n",
    "def test(t):\n",
    "    assert type(t) is int, '정수 아닌 값이 있네'\n",
    "\n",
    "\n",
    "for i in lists:\n",
    "    test(i)\n",
    "\n"
   ]
  },
  {
   "cell_type": "code",
   "execution_count": 5,
   "metadata": {},
   "outputs": [
    {
     "ename": "RuntimeError",
     "evalue": "No active exception to reraise",
     "output_type": "error",
     "traceback": [
      "\u001b[1;31m---------------------------------------------------------------------------\u001b[0m",
      "\u001b[1;31mRuntimeError\u001b[0m                              Traceback (most recent call last)",
      "\u001b[1;32md:\\MyWorkspace\\PyPro\\test01.ipynb 셀 4\u001b[0m in \u001b[0;36m<cell line: 5>\u001b[1;34m()\u001b[0m\n\u001b[0;32m      <a href='vscode-notebook-cell:/d%3A/MyWorkspace/PyPro/test01.ipynb#W3sZmlsZQ%3D%3D?line=1'>2</a>\u001b[0m \u001b[39m#a=1\u001b[39;00m\n\u001b[0;32m      <a href='vscode-notebook-cell:/d%3A/MyWorkspace/PyPro/test01.ipynb#W3sZmlsZQ%3D%3D?line=2'>3</a>\u001b[0m \n\u001b[0;32m      <a href='vscode-notebook-cell:/d%3A/MyWorkspace/PyPro/test01.ipynb#W3sZmlsZQ%3D%3D?line=3'>4</a>\u001b[0m \u001b[39m# 범위를 벗어나면 error 발생!\u001b[39;00m\n\u001b[0;32m      <a href='vscode-notebook-cell:/d%3A/MyWorkspace/PyPro/test01.ipynb#W3sZmlsZQ%3D%3D?line=4'>5</a>\u001b[0m \u001b[39mif\u001b[39;00m a \u001b[39m<\u001b[39m \u001b[39m1\u001b[39m \u001b[39mor\u001b[39;00m a \u001b[39m>\u001b[39m \u001b[39m5\u001b[39m:\n\u001b[1;32m----> <a href='vscode-notebook-cell:/d%3A/MyWorkspace/PyPro/test01.ipynb#W3sZmlsZQ%3D%3D?line=5'>6</a>\u001b[0m     \u001b[39mraise\u001b[39;00m\n\u001b[0;32m      <a href='vscode-notebook-cell:/d%3A/MyWorkspace/PyPro/test01.ipynb#W3sZmlsZQ%3D%3D?line=7'>8</a>\u001b[0m \u001b[39m# 범위 안에 있으면 정상 출력\u001b[39;00m\n\u001b[0;32m      <a href='vscode-notebook-cell:/d%3A/MyWorkspace/PyPro/test01.ipynb#W3sZmlsZQ%3D%3D?line=8'>9</a>\u001b[0m \u001b[39mprint\u001b[39m(\u001b[39mf\u001b[39m\u001b[39m\"\u001b[39m\u001b[39m입력한 a : \u001b[39m\u001b[39m{\u001b[39;00ma\u001b[39m}\u001b[39;00m\u001b[39m 입니다.\u001b[39m\u001b[39m\"\u001b[39m)\n",
      "\u001b[1;31mRuntimeError\u001b[0m: No active exception to reraise"
     ]
    }
   ],
   "source": [
    "a = int(input(\"1~5 까지 숫자 입력 : \"))\n",
    "#a=1\n",
    "\n",
    "# 범위를 벗어나면 error 발생!\n",
    "if a < 1 or a > 5:\n",
    "    raise\n",
    "\n",
    "# 범위 안에 있으면 정상 출력\n",
    "print(f\"입력한 a : {a} 입니다.\")\n"
   ]
  },
  {
   "cell_type": "code",
   "execution_count": 6,
   "metadata": {},
   "outputs": [],
   "source": [
    "\"\"\"\n",
    "대부분의 프로그래밍 언어에서 일반적으로 함수는 어떤 결과 값을 return 키워드를 이용해서 반환을 합니다. \n",
    "하지만 파이썬에서는 함수가 yield 키워드를 이용해서 다소 다른 방식으로 결과 값을 제공할 수 있습니다.\n",
    "\"\"\"\n",
    "def return_abc():\n",
    "  return list(\"ABC\")\n",
    "\n",
    "def yield_abc():\n",
    "  yield \"A\"\n",
    "  yield \"B\"\n",
    "  yield \"C\""
   ]
  },
  {
   "cell_type": "code",
   "execution_count": 7,
   "metadata": {},
   "outputs": [
    {
     "name": "stdout",
     "output_type": "stream",
     "text": [
      "A\n",
      "B\n",
      "C\n"
     ]
    }
   ],
   "source": [
    "for ch in return_abc():\n",
    "  print(ch)"
   ]
  },
  {
   "cell_type": "code",
   "execution_count": 8,
   "metadata": {},
   "outputs": [
    {
     "name": "stdout",
     "output_type": "stream",
     "text": [
      "A\n",
      "B\n",
      "C\n"
     ]
    }
   ],
   "source": [
    "for ch in yield_abc():\n",
    "  print(ch)"
   ]
  },
  {
   "cell_type": "code",
   "execution_count": 10,
   "metadata": {},
   "outputs": [
    {
     "name": "stdout",
     "output_type": "stream",
     "text": [
      "['A', 'B', 'C']\n",
      "<generator object yield_abc at 0x0000028806677E60>\n"
     ]
    }
   ],
   "source": [
    "print(return_abc())\n",
    "print(yield_abc())\n"
   ]
  },
  {
   "cell_type": "code",
   "execution_count": null,
   "metadata": {},
   "outputs": [],
   "source": [
    "'''\n",
    "제너레이터(generator)\n",
    "파이썬에서 제너레이터는 여러 개의 데이터를 미리 만들어 놓지 않고 필요할 때마다 즉석해서 하나씩 만들어낼 수 있는 객체를 의미합니다.\n",
    "'''"
   ]
  },
  {
   "cell_type": "code",
   "execution_count": 12,
   "metadata": {},
   "outputs": [
    {
     "name": "stdout",
     "output_type": "stream",
     "text": [
      "A\n",
      "B\n",
      "C\n"
     ]
    }
   ],
   "source": [
    "\n",
    "# 3초 후에 동시에 만들어 진다.\n",
    "import time\n",
    "\n",
    "def return_abc():\n",
    "  alphabets = []\n",
    "  for ch in \"ABC\":\n",
    "    time.sleep(1)\n",
    "    alphabets.append(ch)\n",
    "  return alphabets\n",
    "  \n",
    "for ch in return_abc():\n",
    "    print(ch)"
   ]
  },
  {
   "cell_type": "code",
   "execution_count": 16,
   "metadata": {},
   "outputs": [],
   "source": [
    "#위 함수를 호출한 결과를 for 루프로 돌려보면 1초 후에 A를 출력되고, \n",
    "# 또 1초 후에 B를 출력되고, 또 1초 후에 C가 출력이 될 것입니다.\n",
    "\n",
    "import time\n",
    "\n",
    "def yield_abc():\n",
    "  for ch in \"ABC\":\n",
    "    time.sleep(1)\n",
    "    yield ch  "
   ]
  },
  {
   "cell_type": "code",
   "execution_count": 18,
   "metadata": {},
   "outputs": [
    {
     "name": "stdout",
     "output_type": "stream",
     "text": [
      "1초 경과\n",
      "A\n",
      "1초 경과\n",
      "B\n",
      "1초 경과\n",
      "C\n"
     ]
    }
   ],
   "source": [
    "for ch in return_abc():\n",
    "  print(\"1초 경과\")\n",
    "  print(ch) "
   ]
  },
  {
   "cell_type": "code",
   "execution_count": 26,
   "metadata": {},
   "outputs": [],
   "source": [
    "# 무한 생산\n",
    "import random \n",
    "\n",
    "def yield_infinite_abc():\n",
    "  while True:\n",
    "    yield random.randint(1,10)\n",
    "    #yield random.randint(1,10)\n",
    "    #yield random.randint(1,10)"
   ]
  },
  {
   "cell_type": "code",
   "execution_count": null,
   "metadata": {},
   "outputs": [],
   "source": [
    "for ch in yield_infinite_abc():\n",
    "  print(ch)"
   ]
  },
  {
   "cell_type": "code",
   "execution_count": 29,
   "metadata": {},
   "outputs": [],
   "source": [
    "'''yield from\n",
    "제너레이터를 반환하는 함수를 작성하다 보면 아래와 같이 리스트를 제너레이터로 변환해야 할 일이 자주 생깁니다.'''\n",
    "def yield_abc1():\n",
    "  for ch in [\"A\", \"B\", \"C\"]:\n",
    "    yield ch\n",
    "\n",
    "def yield_abc2():\n",
    "  yield from [\"A\", \"B\", \"C\"]"
   ]
  },
  {
   "cell_type": "code",
   "execution_count": 51,
   "metadata": {},
   "outputs": [
    {
     "name": "stdout",
     "output_type": "stream",
     "text": [
      "앗싸..\n",
      "프로그램 테스트....\n",
      "앗싸..\n",
      "프로그램 테스트....\n"
     ]
    }
   ],
   "source": [
    "'''\n",
    "파일 처리를 수행하는 도중에 오류가 발생하게 되면 \n",
    "close() 문을 실행할 수 없고 그렇게 되면 이 파일은 영원히 닫을 수가 없게 된다. \n",
    " with 문은 그 구문을 실행했을 때 오류가 발생하든 안하든 마지막에 close 를 해주도록 하는 것이다.\n",
    "'''\n",
    "\n",
    "f = open(\"test.txt\", \"r\",encoding='utf-8')\n",
    "data = f.read()\n",
    "print(data)\n",
    "f.close()\n",
    "\n",
    "with open('test.txt', 'r',encoding='utf-8') as file:\n",
    "    contents = file.read()\n",
    "    print(contents)\n",
    "\n"
   ]
  }
 ],
 "metadata": {
  "kernelspec": {
   "display_name": "Python 3.10.4 ('venv39_64')",
   "language": "python",
   "name": "python3"
  },
  "language_info": {
   "codemirror_mode": {
    "name": "ipython",
    "version": 3
   },
   "file_extension": ".py",
   "mimetype": "text/x-python",
   "name": "python",
   "nbconvert_exporter": "python",
   "pygments_lexer": "ipython3",
   "version": "3.10.4"
  },
  "orig_nbformat": 4,
  "vscode": {
   "interpreter": {
    "hash": "da5eb53a2f07dd21749cace4c2f7ab91d8a47ad5fe2bed6358bacfc40cb75f48"
   }
  }
 },
 "nbformat": 4,
 "nbformat_minor": 2
}
